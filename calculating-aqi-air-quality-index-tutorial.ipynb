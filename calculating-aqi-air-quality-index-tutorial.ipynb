{
 "cells": [
  {
   "cell_type": "markdown",
   "metadata": {
    "papermill": {
     "duration": 0.011635,
     "end_time": "2020-08-22T16:19:27.564944",
     "exception": false,
     "start_time": "2020-08-22T16:19:27.553309",
     "status": "completed"
    },
    "tags": []
   },
   "source": [
    "## Calculating AQI (Air Quality Index) in India\n",
    "![](https://i.imgur.com/GL2BaU4.png)\n",
    "\n",
    "This notebook provides a workflow for calculating Air Quality Index. The formula is as per CPCB's official AQI Calculator: https://app.cpcbccr.com/ccr_docs/How_AQI_Calculated.pdf\n"
   ]
  },
  {
   "cell_type": "markdown",
   "metadata": {
    "papermill": {
     "duration": 0.00963,
     "end_time": "2020-08-22T16:19:27.585206",
     "exception": false,
     "start_time": "2020-08-22T16:19:27.575576",
     "status": "completed"
    },
    "tags": []
   },
   "source": [
    "## Preparing data\n",
    "The dataset used is hourly air quality data (2015 - 2020) from various measuring stations across India: https://www.kaggle.com/rohanrao/air-quality-data-in-india\n",
    "\n",
    "We'll use one city (Thiruvananthapuram in Kerala) that has two stations and compare it with the actual AQI values present in the data at station, city, hour and day level to confirm the calculations are correct.\n"
   ]
  },
  {
   "cell_type": "code",
   "execution_count": 1,
   "metadata": {
    "_cell_guid": "b1076dfc-b9ad-4769-8c92-a6c4dae69d19",
    "_uuid": "8f2839f25d086af736a60e9eeb907d3b93b6e0e5",
    "papermill": {
     "duration": 0.01993,
     "end_time": "2020-08-22T16:19:27.615215",
     "exception": false,
     "start_time": "2020-08-22T16:19:27.595285",
     "status": "completed"
    },
    "tags": []
   },
   "outputs": [],
   "source": [
    "## importing packages\n",
    "import numpy as np\n",
    "import pandas as pd\n"
   ]
  },
  {
   "cell_type": "code",
   "execution_count": 2,
   "metadata": {
    "papermill": {
     "duration": 0.015964,
     "end_time": "2020-08-22T16:19:27.637853",
     "exception": false,
     "start_time": "2020-08-22T16:19:27.621889",
     "status": "completed"
    },
    "tags": []
   },
   "outputs": [],
   "source": [
    "## defining constants\n",
    "PATH_STATION_HOUR = \"/kaggle/input/air-quality-data-in-india/station_hour.csv\"\n",
    "PATH_STATION_DAY = \"/kaggle/input/air-quality-data-in-india/station_day.csv\"\n",
    "PATH_CITY_HOUR = \"/kaggle/input/air-quality-data-in-india/city_hour.csv\"\n",
    "PATH_CITY_DAY = \"/kaggle/input/air-quality-data-in-india/city_day.csv\"\n",
    "PATH_STATIONS = \"/kaggle/input/air-quality-data-in-india/stations.csv\"\n",
    "\n",
    "STATIONS = [\"KL007\", \"KL008\"]\n"
   ]
  },
  {
   "cell_type": "code",
   "execution_count": 3,
   "metadata": {
    "_cell_guid": "79c7e3d0-c299-4dcb-8224-4455121ee9b0",
    "_uuid": "d629ff2d2480ee46fbb7e2d37f6b5fab8052498a",
    "papermill": {
     "duration": 8.303198,
     "end_time": "2020-08-22T16:19:35.953404",
     "exception": false,
     "start_time": "2020-08-22T16:19:27.650206",
     "status": "completed"
    },
    "tags": []
   },
   "outputs": [
    {
     "name": "stderr",
     "output_type": "stream",
     "text": [
      "/opt/conda/lib/python3.7/site-packages/IPython/core/interactiveshell.py:3063: DtypeWarning: Columns (15) have mixed types.Specify dtype option on import or set low_memory=False.\n",
      "  interactivity=interactivity, compiler=compiler, result=result)\n"
     ]
    }
   ],
   "source": [
    "## importing data and subsetting the station\n",
    "df = pd.read_csv(PATH_STATION_HOUR, parse_dates = [\"Datetime\"])\n",
    "stations = pd.read_csv(PATH_STATIONS)\n",
    "\n",
    "df = df.merge(stations, on = \"StationId\")\n",
    "\n",
    "df = df[df.StationId.isin(STATIONS)]\n",
    "df.sort_values([\"StationId\", \"Datetime\"], inplace = True)\n",
    "df[\"Date\"] = df.Datetime.dt.date.astype(str)\n",
    "df.Datetime = df.Datetime.astype(str)\n"
   ]
  },
  {
   "cell_type": "markdown",
   "metadata": {
    "papermill": {
     "duration": 0.006262,
     "end_time": "2020-08-22T16:19:35.966549",
     "exception": false,
     "start_time": "2020-08-22T16:19:35.960287",
     "status": "completed"
    },
    "tags": []
   },
   "source": [
    "## Formula\n",
    "![](https://i.imgur.com/vQR5Zy0.png)\n",
    "\n",
    "* The AQI calculation uses 7 measures: **PM2.5, PM10, SO2, NOx, NH3, CO and O3**.\n",
    "* For **PM2.5, PM10, SO2, NOx and NH3** the average value in last 24-hrs is used with the condition of having at least 16 values.\n",
    "* For **CO and O3** the maximum value in last 8-hrs is used.\n",
    "* Each measure is converted into a Sub-Index based on pre-defined groups.\n",
    "* Sometimes measures are not available due to lack of measuring or lack of required data points.\n",
    "* Final AQI is the maximum Sub-Index with the condition that at least one of PM2.5 and PM10 should be available and at least three out of the seven should be available.\n"
   ]
  },
  {
   "cell_type": "code",
   "execution_count": 4,
   "metadata": {
    "papermill": {
     "duration": 0.137847,
     "end_time": "2020-08-22T16:19:36.110739",
     "exception": false,
     "start_time": "2020-08-22T16:19:35.972892",
     "status": "completed"
    },
    "tags": []
   },
   "outputs": [],
   "source": [
    "df[\"PM10_24hr_avg\"] = df.groupby(\"StationId\")[\"PM10\"].rolling(window = 24, min_periods = 16).mean().values\n",
    "df[\"PM2.5_24hr_avg\"] = df.groupby(\"StationId\")[\"PM2.5\"].rolling(window = 24, min_periods = 16).mean().values\n",
    "df[\"SO2_24hr_avg\"] = df.groupby(\"StationId\")[\"SO2\"].rolling(window = 24, min_periods = 16).mean().values\n",
    "df[\"NOx_24hr_avg\"] = df.groupby(\"StationId\")[\"NOx\"].rolling(window = 24, min_periods = 16).mean().values\n",
    "df[\"NH3_24hr_avg\"] = df.groupby(\"StationId\")[\"NH3\"].rolling(window = 24, min_periods = 16).mean().values\n",
    "df[\"CO_8hr_max\"] = df.groupby(\"StationId\")[\"CO\"].rolling(window = 8, min_periods = 1).max().values\n",
    "df[\"O3_8hr_max\"] = df.groupby(\"StationId\")[\"O3\"].rolling(window = 8, min_periods = 1).max().values\n"
   ]
  },
  {
   "cell_type": "markdown",
   "metadata": {
    "papermill": {
     "duration": 0.006103,
     "end_time": "2020-08-22T16:19:36.123822",
     "exception": false,
     "start_time": "2020-08-22T16:19:36.117719",
     "status": "completed"
    },
    "tags": []
   },
   "source": [
    "## PM2.5 (Particulate Matter 2.5-micrometer)\n",
    "PM2.5 is measured in ug / m3 (micrograms per cubic meter of air). The predefined groups are defined in the function below:\n"
   ]
  },
  {
   "cell_type": "code",
   "execution_count": 5,
   "metadata": {
    "papermill": {
     "duration": 0.059089,
     "end_time": "2020-08-22T16:19:36.189304",
     "exception": false,
     "start_time": "2020-08-22T16:19:36.130215",
     "status": "completed"
    },
    "tags": []
   },
   "outputs": [],
   "source": [
    "## PM2.5 Sub-Index calculation\n",
    "def get_PM25_subindex(x):\n",
    "    if x <= 30:\n",
    "        return x * 50 / 30\n",
    "    elif x <= 60:\n",
    "        return 50 + (x - 30) * 50 / 30\n",
    "    elif x <= 90:\n",
    "        return 100 + (x - 60) * 100 / 30\n",
    "    elif x <= 120:\n",
    "        return 200 + (x - 90) * 100 / 30\n",
    "    elif x <= 250:\n",
    "        return 300 + (x - 120) * 100 / 130\n",
    "    elif x > 250:\n",
    "        return 400 + (x - 250) * 100 / 130\n",
    "    else:\n",
    "        return 0\n",
    "\n",
    "df[\"PM2.5_SubIndex\"] = df[\"PM2.5_24hr_avg\"].apply(lambda x: get_PM25_subindex(x))\n"
   ]
  },
  {
   "cell_type": "markdown",
   "metadata": {
    "papermill": {
     "duration": 0.006207,
     "end_time": "2020-08-22T16:19:36.202108",
     "exception": false,
     "start_time": "2020-08-22T16:19:36.195901",
     "status": "completed"
    },
    "tags": []
   },
   "source": [
    "## PM10 (Particulate Matter 10-micrometer)\n",
    "PM10 is measured in ug / m3 (micrograms per cubic meter of air). The predefined groups are defined in the function below:\n"
   ]
  },
  {
   "cell_type": "code",
   "execution_count": 6,
   "metadata": {
    "papermill": {
     "duration": 0.051172,
     "end_time": "2020-08-22T16:19:36.259855",
     "exception": false,
     "start_time": "2020-08-22T16:19:36.208683",
     "status": "completed"
    },
    "tags": []
   },
   "outputs": [],
   "source": [
    "## PM10 Sub-Index calculation\n",
    "def get_PM10_subindex(x):\n",
    "    if x <= 50:\n",
    "        return x\n",
    "    elif x <= 100:\n",
    "        return x\n",
    "    elif x <= 250:\n",
    "        return 100 + (x - 100) * 100 / 150\n",
    "    elif x <= 350:\n",
    "        return 200 + (x - 250)\n",
    "    elif x <= 430:\n",
    "        return 300 + (x - 350) * 100 / 80\n",
    "    elif x > 430:\n",
    "        return 400 + (x - 430) * 100 / 80\n",
    "    else:\n",
    "        return 0\n",
    "\n",
    "df[\"PM10_SubIndex\"] = df[\"PM10_24hr_avg\"].apply(lambda x: get_PM10_subindex(x))\n"
   ]
  },
  {
   "cell_type": "markdown",
   "metadata": {
    "papermill": {
     "duration": 0.006081,
     "end_time": "2020-08-22T16:19:36.272642",
     "exception": false,
     "start_time": "2020-08-22T16:19:36.266561",
     "status": "completed"
    },
    "tags": []
   },
   "source": [
    "## SO2 (Sulphur Dioxide)\n",
    "SO2 is measured in ug / m3 (micrograms per cubic meter of air). The predefined groups are defined in the function below:"
   ]
  },
  {
   "cell_type": "code",
   "execution_count": 7,
   "metadata": {
    "papermill": {
     "duration": 0.055415,
     "end_time": "2020-08-22T16:19:36.334863",
     "exception": false,
     "start_time": "2020-08-22T16:19:36.279448",
     "status": "completed"
    },
    "tags": []
   },
   "outputs": [],
   "source": [
    "## SO2 Sub-Index calculation\n",
    "def get_SO2_subindex(x):\n",
    "    if x <= 40:\n",
    "        return x * 50 / 40\n",
    "    elif x <= 80:\n",
    "        return 50 + (x - 40) * 50 / 40\n",
    "    elif x <= 380:\n",
    "        return 100 + (x - 80) * 100 / 300\n",
    "    elif x <= 800:\n",
    "        return 200 + (x - 380) * 100 / 420\n",
    "    elif x <= 1600:\n",
    "        return 300 + (x - 800) * 100 / 800\n",
    "    elif x > 1600:\n",
    "        return 400 + (x - 1600) * 100 / 800\n",
    "    else:\n",
    "        return 0\n",
    "\n",
    "df[\"SO2_SubIndex\"] = df[\"SO2_24hr_avg\"].apply(lambda x: get_SO2_subindex(x))\n"
   ]
  },
  {
   "cell_type": "markdown",
   "metadata": {
    "papermill": {
     "duration": 0.006255,
     "end_time": "2020-08-22T16:19:36.347818",
     "exception": false,
     "start_time": "2020-08-22T16:19:36.341563",
     "status": "completed"
    },
    "tags": []
   },
   "source": [
    "## NOx (Any Nitric x-oxide)\n",
    "NOx is measured in ppb (parts per billion). The predefined groups are defined in the function below:\n"
   ]
  },
  {
   "cell_type": "code",
   "execution_count": 8,
   "metadata": {
    "papermill": {
     "duration": 0.054532,
     "end_time": "2020-08-22T16:19:36.409077",
     "exception": false,
     "start_time": "2020-08-22T16:19:36.354545",
     "status": "completed"
    },
    "tags": []
   },
   "outputs": [],
   "source": [
    "## NOx Sub-Index calculation\n",
    "def get_NOx_subindex(x):\n",
    "    if x <= 40:\n",
    "        return x * 50 / 40\n",
    "    elif x <= 80:\n",
    "        return 50 + (x - 40) * 50 / 40\n",
    "    elif x <= 180:\n",
    "        return 100 + (x - 80) * 100 / 100\n",
    "    elif x <= 280:\n",
    "        return 200 + (x - 180) * 100 / 100\n",
    "    elif x <= 400:\n",
    "        return 300 + (x - 280) * 100 / 120\n",
    "    elif x > 400:\n",
    "        return 400 + (x - 400) * 100 / 120\n",
    "    else:\n",
    "        return 0\n",
    "\n",
    "df[\"NOx_SubIndex\"] = df[\"NOx_24hr_avg\"].apply(lambda x: get_NOx_subindex(x))\n"
   ]
  },
  {
   "cell_type": "markdown",
   "metadata": {
    "papermill": {
     "duration": 0.006464,
     "end_time": "2020-08-22T16:19:36.423566",
     "exception": false,
     "start_time": "2020-08-22T16:19:36.417102",
     "status": "completed"
    },
    "tags": []
   },
   "source": [
    "## NH3 (Ammonia)\n",
    "NH3 is measured in ug / m3 (micrograms per cubic meter of air). The predefined groups are defined in the function below:"
   ]
  },
  {
   "cell_type": "code",
   "execution_count": 9,
   "metadata": {
    "papermill": {
     "duration": 0.055112,
     "end_time": "2020-08-22T16:19:36.485228",
     "exception": false,
     "start_time": "2020-08-22T16:19:36.430116",
     "status": "completed"
    },
    "tags": []
   },
   "outputs": [],
   "source": [
    "## NH3 Sub-Index calculation\n",
    "def get_NH3_subindex(x):\n",
    "    if x <= 200:\n",
    "        return x * 50 / 200\n",
    "    elif x <= 400:\n",
    "        return 50 + (x - 200) * 50 / 200\n",
    "    elif x <= 800:\n",
    "        return 100 + (x - 400) * 100 / 400\n",
    "    elif x <= 1200:\n",
    "        return 200 + (x - 800) * 100 / 400\n",
    "    elif x <= 1800:\n",
    "        return 300 + (x - 1200) * 100 / 600\n",
    "    elif x > 1800:\n",
    "        return 400 + (x - 1800) * 100 / 600\n",
    "    else:\n",
    "        return 0\n",
    "\n",
    "df[\"NH3_SubIndex\"] = df[\"NH3_24hr_avg\"].apply(lambda x: get_NH3_subindex(x))\n"
   ]
  },
  {
   "cell_type": "markdown",
   "metadata": {
    "papermill": {
     "duration": 0.00633,
     "end_time": "2020-08-22T16:19:36.498616",
     "exception": false,
     "start_time": "2020-08-22T16:19:36.492286",
     "status": "completed"
    },
    "tags": []
   },
   "source": [
    "## CO (Carbon Monoxide)\n",
    "CO is measured in mg / m3 (milligrams per cubic meter of air). The predefined groups are defined in the function below:"
   ]
  },
  {
   "cell_type": "code",
   "execution_count": 10,
   "metadata": {
    "papermill": {
     "duration": 0.038492,
     "end_time": "2020-08-22T16:19:36.543647",
     "exception": false,
     "start_time": "2020-08-22T16:19:36.505155",
     "status": "completed"
    },
    "tags": []
   },
   "outputs": [],
   "source": [
    "## CO Sub-Index calculation\n",
    "def get_CO_subindex(x):\n",
    "    if x <= 1:\n",
    "        return x * 50 / 1\n",
    "    elif x <= 2:\n",
    "        return 50 + (x - 1) * 50 / 1\n",
    "    elif x <= 10:\n",
    "        return 100 + (x - 2) * 100 / 8\n",
    "    elif x <= 17:\n",
    "        return 200 + (x - 10) * 100 / 7\n",
    "    elif x <= 34:\n",
    "        return 300 + (x - 17) * 100 / 17\n",
    "    elif x > 34:\n",
    "        return 400 + (x - 34) * 100 / 17\n",
    "    else:\n",
    "        return 0\n",
    "\n",
    "df[\"CO_SubIndex\"] = df[\"CO_8hr_max\"].apply(lambda x: get_CO_subindex(x))\n"
   ]
  },
  {
   "cell_type": "markdown",
   "metadata": {
    "papermill": {
     "duration": 0.010926,
     "end_time": "2020-08-22T16:19:36.564702",
     "exception": false,
     "start_time": "2020-08-22T16:19:36.553776",
     "status": "completed"
    },
    "tags": []
   },
   "source": [
    "## O3 (Ozone or Trioxygen)\n",
    "O3 is measured in ug / m3 (micrograms per cubic meter of air). The predefined groups are defined in the function below:"
   ]
  },
  {
   "cell_type": "code",
   "execution_count": 11,
   "metadata": {
    "papermill": {
     "duration": 0.041793,
     "end_time": "2020-08-22T16:19:36.617120",
     "exception": false,
     "start_time": "2020-08-22T16:19:36.575327",
     "status": "completed"
    },
    "tags": []
   },
   "outputs": [],
   "source": [
    "## O3 Sub-Index calculation\n",
    "def get_O3_subindex(x):\n",
    "    if x <= 50:\n",
    "        return x * 50 / 50\n",
    "    elif x <= 100:\n",
    "        return 50 + (x - 50) * 50 / 50\n",
    "    elif x <= 168:\n",
    "        return 100 + (x - 100) * 100 / 68\n",
    "    elif x <= 208:\n",
    "        return 200 + (x - 168) * 100 / 40\n",
    "    elif x <= 748:\n",
    "        return 300 + (x - 208) * 100 / 539\n",
    "    elif x > 748:\n",
    "        return 400 + (x - 400) * 100 / 539\n",
    "    else:\n",
    "        return 0\n",
    "\n",
    "df[\"O3_SubIndex\"] = df[\"O3_8hr_max\"].apply(lambda x: get_O3_subindex(x))\n"
   ]
  },
  {
   "cell_type": "markdown",
   "metadata": {
    "papermill": {
     "duration": 0.006211,
     "end_time": "2020-08-22T16:19:36.629964",
     "exception": false,
     "start_time": "2020-08-22T16:19:36.623753",
     "status": "completed"
    },
    "tags": []
   },
   "source": [
    "## AQI\n",
    "The final AQI is the maximum Sub-Index among the available sub-indices with the condition that at least one of PM2.5 and PM10 should be available and at least three out of the seven should be available.\n",
    "\n",
    "There is no theoretical upper value of AQI but its rare to find values over 1000.\n",
    "\n",
    "The pre-defined buckets of AQI are as follows:\n",
    "![](https://i.imgur.com/XmnE0rT.png)\n"
   ]
  },
  {
   "cell_type": "code",
   "execution_count": 12,
   "metadata": {
    "papermill": {
     "duration": 0.131845,
     "end_time": "2020-08-22T16:19:36.768580",
     "exception": false,
     "start_time": "2020-08-22T16:19:36.636735",
     "status": "completed"
    },
    "tags": []
   },
   "outputs": [
    {
     "data": {
      "text/html": [
       "<div>\n",
       "<style scoped>\n",
       "    .dataframe tbody tr th:only-of-type {\n",
       "        vertical-align: middle;\n",
       "    }\n",
       "\n",
       "    .dataframe tbody tr th {\n",
       "        vertical-align: top;\n",
       "    }\n",
       "\n",
       "    .dataframe thead th {\n",
       "        text-align: right;\n",
       "    }\n",
       "</style>\n",
       "<table border=\"1\" class=\"dataframe\">\n",
       "  <thead>\n",
       "    <tr style=\"text-align: right;\">\n",
       "      <th></th>\n",
       "      <th>StationId</th>\n",
       "      <th>Datetime</th>\n",
       "      <th>PM2.5</th>\n",
       "      <th>PM10</th>\n",
       "      <th>NO</th>\n",
       "      <th>NO2</th>\n",
       "      <th>NOx</th>\n",
       "      <th>NH3</th>\n",
       "      <th>CO</th>\n",
       "      <th>SO2</th>\n",
       "      <th>...</th>\n",
       "      <th>PM2.5_SubIndex</th>\n",
       "      <th>PM10_SubIndex</th>\n",
       "      <th>SO2_SubIndex</th>\n",
       "      <th>NOx_SubIndex</th>\n",
       "      <th>NH3_SubIndex</th>\n",
       "      <th>CO_SubIndex</th>\n",
       "      <th>O3_SubIndex</th>\n",
       "      <th>Checks</th>\n",
       "      <th>AQI_calculated</th>\n",
       "      <th>AQI_bucket_calculated</th>\n",
       "    </tr>\n",
       "  </thead>\n",
       "  <tbody>\n",
       "    <tr>\n",
       "      <th>1667827</th>\n",
       "      <td>KL007</td>\n",
       "      <td>2020-02-14 08:00:00</td>\n",
       "      <td>35.81</td>\n",
       "      <td>51.71</td>\n",
       "      <td>22.90</td>\n",
       "      <td>27.43</td>\n",
       "      <td>52.33</td>\n",
       "      <td>22.90</td>\n",
       "      <td>0.71</td>\n",
       "      <td>1.14</td>\n",
       "      <td>...</td>\n",
       "      <td>66.084375</td>\n",
       "      <td>0.000000</td>\n",
       "      <td>2.350000</td>\n",
       "      <td>43.417187</td>\n",
       "      <td>2.071094</td>\n",
       "      <td>35.5</td>\n",
       "      <td>31.950000</td>\n",
       "      <td>6</td>\n",
       "      <td>66.0</td>\n",
       "      <td>Satisfactory</td>\n",
       "    </tr>\n",
       "    <tr>\n",
       "      <th>1667828</th>\n",
       "      <td>KL007</td>\n",
       "      <td>2020-02-14 09:00:00</td>\n",
       "      <td>38.47</td>\n",
       "      <td>58.54</td>\n",
       "      <td>48.09</td>\n",
       "      <td>51.82</td>\n",
       "      <td>101.90</td>\n",
       "      <td>48.09</td>\n",
       "      <td>1.46</td>\n",
       "      <td>1.65</td>\n",
       "      <td>...</td>\n",
       "      <td>65.968627</td>\n",
       "      <td>60.143125</td>\n",
       "      <td>2.333088</td>\n",
       "      <td>48.355882</td>\n",
       "      <td>2.656471</td>\n",
       "      <td>73.0</td>\n",
       "      <td>31.950000</td>\n",
       "      <td>7</td>\n",
       "      <td>73.0</td>\n",
       "      <td>Satisfactory</td>\n",
       "    </tr>\n",
       "    <tr>\n",
       "      <th>1667829</th>\n",
       "      <td>KL007</td>\n",
       "      <td>2020-02-14 10:00:00</td>\n",
       "      <td>47.94</td>\n",
       "      <td>76.12</td>\n",
       "      <td>12.11</td>\n",
       "      <td>34.90</td>\n",
       "      <td>49.01</td>\n",
       "      <td>12.11</td>\n",
       "      <td>0.81</td>\n",
       "      <td>1.77</td>\n",
       "      <td>...</td>\n",
       "      <td>66.742593</td>\n",
       "      <td>61.082941</td>\n",
       "      <td>2.326389</td>\n",
       "      <td>49.072917</td>\n",
       "      <td>2.677083</td>\n",
       "      <td>73.0</td>\n",
       "      <td>55.360000</td>\n",
       "      <td>7</td>\n",
       "      <td>73.0</td>\n",
       "      <td>Satisfactory</td>\n",
       "    </tr>\n",
       "    <tr>\n",
       "      <th>1667830</th>\n",
       "      <td>KL007</td>\n",
       "      <td>2020-02-14 11:00:00</td>\n",
       "      <td>53.81</td>\n",
       "      <td>79.47</td>\n",
       "      <td>5.82</td>\n",
       "      <td>27.12</td>\n",
       "      <td>34.94</td>\n",
       "      <td>5.82</td>\n",
       "      <td>0.48</td>\n",
       "      <td>1.97</td>\n",
       "      <td>...</td>\n",
       "      <td>67.950000</td>\n",
       "      <td>62.104444</td>\n",
       "      <td>2.333553</td>\n",
       "      <td>48.788816</td>\n",
       "      <td>2.612763</td>\n",
       "      <td>73.0</td>\n",
       "      <td>81.290000</td>\n",
       "      <td>7</td>\n",
       "      <td>81.0</td>\n",
       "      <td>Satisfactory</td>\n",
       "    </tr>\n",
       "    <tr>\n",
       "      <th>1667831</th>\n",
       "      <td>KL007</td>\n",
       "      <td>2020-02-14 12:00:00</td>\n",
       "      <td>46.91</td>\n",
       "      <td>61.87</td>\n",
       "      <td>5.85</td>\n",
       "      <td>30.14</td>\n",
       "      <td>38.00</td>\n",
       "      <td>5.85</td>\n",
       "      <td>0.42</td>\n",
       "      <td>2.11</td>\n",
       "      <td>...</td>\n",
       "      <td>68.461667</td>\n",
       "      <td>62.092105</td>\n",
       "      <td>2.348750</td>\n",
       "      <td>48.724375</td>\n",
       "      <td>2.555250</td>\n",
       "      <td>73.0</td>\n",
       "      <td>87.830000</td>\n",
       "      <td>7</td>\n",
       "      <td>88.0</td>\n",
       "      <td>Satisfactory</td>\n",
       "    </tr>\n",
       "    <tr>\n",
       "      <th>1667832</th>\n",
       "      <td>KL007</td>\n",
       "      <td>2020-02-14 13:00:00</td>\n",
       "      <td>45.43</td>\n",
       "      <td>72.93</td>\n",
       "      <td>4.13</td>\n",
       "      <td>18.97</td>\n",
       "      <td>25.11</td>\n",
       "      <td>4.13</td>\n",
       "      <td>0.27</td>\n",
       "      <td>2.38</td>\n",
       "      <td>...</td>\n",
       "      <td>68.807143</td>\n",
       "      <td>62.634000</td>\n",
       "      <td>2.378571</td>\n",
       "      <td>47.898810</td>\n",
       "      <td>2.482738</td>\n",
       "      <td>73.0</td>\n",
       "      <td>100.485294</td>\n",
       "      <td>7</td>\n",
       "      <td>100.0</td>\n",
       "      <td>Satisfactory</td>\n",
       "    </tr>\n",
       "    <tr>\n",
       "      <th>1667833</th>\n",
       "      <td>KL007</td>\n",
       "      <td>2020-02-14 14:00:00</td>\n",
       "      <td>42.52</td>\n",
       "      <td>66.83</td>\n",
       "      <td>6.44</td>\n",
       "      <td>28.01</td>\n",
       "      <td>36.46</td>\n",
       "      <td>6.44</td>\n",
       "      <td>0.39</td>\n",
       "      <td>2.65</td>\n",
       "      <td>...</td>\n",
       "      <td>68.900758</td>\n",
       "      <td>62.833810</td>\n",
       "      <td>2.421023</td>\n",
       "      <td>47.793182</td>\n",
       "      <td>2.443068</td>\n",
       "      <td>73.0</td>\n",
       "      <td>100.485294</td>\n",
       "      <td>7</td>\n",
       "      <td>100.0</td>\n",
       "      <td>Satisfactory</td>\n",
       "    </tr>\n",
       "    <tr>\n",
       "      <th>1667834</th>\n",
       "      <td>KL007</td>\n",
       "      <td>2020-02-14 15:00:00</td>\n",
       "      <td>38.99</td>\n",
       "      <td>66.50</td>\n",
       "      <td>5.58</td>\n",
       "      <td>25.85</td>\n",
       "      <td>33.42</td>\n",
       "      <td>5.58</td>\n",
       "      <td>0.33</td>\n",
       "      <td>2.48</td>\n",
       "      <td>...</td>\n",
       "      <td>68.730435</td>\n",
       "      <td>63.000455</td>\n",
       "      <td>2.450543</td>\n",
       "      <td>47.531522</td>\n",
       "      <td>2.397500</td>\n",
       "      <td>73.0</td>\n",
       "      <td>104.882353</td>\n",
       "      <td>7</td>\n",
       "      <td>105.0</td>\n",
       "      <td>Moderate</td>\n",
       "    </tr>\n",
       "    <tr>\n",
       "      <th>1667835</th>\n",
       "      <td>KL007</td>\n",
       "      <td>2020-02-14 16:00:00</td>\n",
       "      <td>35.14</td>\n",
       "      <td>85.24</td>\n",
       "      <td>5.76</td>\n",
       "      <td>28.52</td>\n",
       "      <td>36.28</td>\n",
       "      <td>5.76</td>\n",
       "      <td>0.32</td>\n",
       "      <td>2.48</td>\n",
       "      <td>...</td>\n",
       "      <td>68.306944</td>\n",
       "      <td>63.967391</td>\n",
       "      <td>2.477604</td>\n",
       "      <td>47.440625</td>\n",
       "      <td>2.357604</td>\n",
       "      <td>73.0</td>\n",
       "      <td>104.882353</td>\n",
       "      <td>7</td>\n",
       "      <td>105.0</td>\n",
       "      <td>Moderate</td>\n",
       "    </tr>\n",
       "    <tr>\n",
       "      <th>1667836</th>\n",
       "      <td>KL007</td>\n",
       "      <td>2020-02-14 17:00:00</td>\n",
       "      <td>43.85</td>\n",
       "      <td>74.63</td>\n",
       "      <td>4.31</td>\n",
       "      <td>19.27</td>\n",
       "      <td>25.59</td>\n",
       "      <td>4.31</td>\n",
       "      <td>0.19</td>\n",
       "      <td>2.79</td>\n",
       "      <td>...</td>\n",
       "      <td>68.786806</td>\n",
       "      <td>64.411667</td>\n",
       "      <td>2.490104</td>\n",
       "      <td>47.408333</td>\n",
       "      <td>2.356979</td>\n",
       "      <td>40.5</td>\n",
       "      <td>104.882353</td>\n",
       "      <td>7</td>\n",
       "      <td>105.0</td>\n",
       "      <td>Moderate</td>\n",
       "    </tr>\n",
       "    <tr>\n",
       "      <th>1667837</th>\n",
       "      <td>KL007</td>\n",
       "      <td>2020-02-14 18:00:00</td>\n",
       "      <td>40.64</td>\n",
       "      <td>71.59</td>\n",
       "      <td>3.45</td>\n",
       "      <td>15.17</td>\n",
       "      <td>21.20</td>\n",
       "      <td>3.76</td>\n",
       "      <td>0.18</td>\n",
       "      <td>2.58</td>\n",
       "      <td>...</td>\n",
       "      <td>69.182639</td>\n",
       "      <td>65.172083</td>\n",
       "      <td>2.484375</td>\n",
       "      <td>47.029687</td>\n",
       "      <td>2.335729</td>\n",
       "      <td>24.0</td>\n",
       "      <td>104.882353</td>\n",
       "      <td>7</td>\n",
       "      <td>105.0</td>\n",
       "      <td>Moderate</td>\n",
       "    </tr>\n",
       "    <tr>\n",
       "      <th>1667838</th>\n",
       "      <td>KL007</td>\n",
       "      <td>2020-02-14 19:00:00</td>\n",
       "      <td>37.08</td>\n",
       "      <td>62.58</td>\n",
       "      <td>5.89</td>\n",
       "      <td>16.24</td>\n",
       "      <td>24.13</td>\n",
       "      <td>5.89</td>\n",
       "      <td>0.24</td>\n",
       "      <td>2.70</td>\n",
       "      <td>...</td>\n",
       "      <td>69.329861</td>\n",
       "      <td>65.602500</td>\n",
       "      <td>2.481250</td>\n",
       "      <td>47.164062</td>\n",
       "      <td>2.357604</td>\n",
       "      <td>21.0</td>\n",
       "      <td>104.882353</td>\n",
       "      <td>7</td>\n",
       "      <td>105.0</td>\n",
       "      <td>Moderate</td>\n",
       "    </tr>\n",
       "    <tr>\n",
       "      <th>1667839</th>\n",
       "      <td>KL007</td>\n",
       "      <td>2020-02-14 20:00:00</td>\n",
       "      <td>36.55</td>\n",
       "      <td>56.35</td>\n",
       "      <td>4.55</td>\n",
       "      <td>22.51</td>\n",
       "      <td>29.06</td>\n",
       "      <td>4.55</td>\n",
       "      <td>0.34</td>\n",
       "      <td>2.67</td>\n",
       "      <td>...</td>\n",
       "      <td>69.354167</td>\n",
       "      <td>65.928750</td>\n",
       "      <td>2.475521</td>\n",
       "      <td>47.054167</td>\n",
       "      <td>2.366146</td>\n",
       "      <td>19.5</td>\n",
       "      <td>104.882353</td>\n",
       "      <td>7</td>\n",
       "      <td>105.0</td>\n",
       "      <td>Moderate</td>\n",
       "    </tr>\n",
       "  </tbody>\n",
       "</table>\n",
       "<p>13 rows × 38 columns</p>\n",
       "</div>"
      ],
      "text/plain": [
       "        StationId             Datetime  PM2.5   PM10     NO    NO2     NOx  \\\n",
       "1667827     KL007  2020-02-14 08:00:00  35.81  51.71  22.90  27.43   52.33   \n",
       "1667828     KL007  2020-02-14 09:00:00  38.47  58.54  48.09  51.82  101.90   \n",
       "1667829     KL007  2020-02-14 10:00:00  47.94  76.12  12.11  34.90   49.01   \n",
       "1667830     KL007  2020-02-14 11:00:00  53.81  79.47   5.82  27.12   34.94   \n",
       "1667831     KL007  2020-02-14 12:00:00  46.91  61.87   5.85  30.14   38.00   \n",
       "1667832     KL007  2020-02-14 13:00:00  45.43  72.93   4.13  18.97   25.11   \n",
       "1667833     KL007  2020-02-14 14:00:00  42.52  66.83   6.44  28.01   36.46   \n",
       "1667834     KL007  2020-02-14 15:00:00  38.99  66.50   5.58  25.85   33.42   \n",
       "1667835     KL007  2020-02-14 16:00:00  35.14  85.24   5.76  28.52   36.28   \n",
       "1667836     KL007  2020-02-14 17:00:00  43.85  74.63   4.31  19.27   25.59   \n",
       "1667837     KL007  2020-02-14 18:00:00  40.64  71.59   3.45  15.17   21.20   \n",
       "1667838     KL007  2020-02-14 19:00:00  37.08  62.58   5.89  16.24   24.13   \n",
       "1667839     KL007  2020-02-14 20:00:00  36.55  56.35   4.55  22.51   29.06   \n",
       "\n",
       "           NH3    CO   SO2  ...  PM2.5_SubIndex  PM10_SubIndex  SO2_SubIndex  \\\n",
       "1667827  22.90  0.71  1.14  ...       66.084375       0.000000      2.350000   \n",
       "1667828  48.09  1.46  1.65  ...       65.968627      60.143125      2.333088   \n",
       "1667829  12.11  0.81  1.77  ...       66.742593      61.082941      2.326389   \n",
       "1667830   5.82  0.48  1.97  ...       67.950000      62.104444      2.333553   \n",
       "1667831   5.85  0.42  2.11  ...       68.461667      62.092105      2.348750   \n",
       "1667832   4.13  0.27  2.38  ...       68.807143      62.634000      2.378571   \n",
       "1667833   6.44  0.39  2.65  ...       68.900758      62.833810      2.421023   \n",
       "1667834   5.58  0.33  2.48  ...       68.730435      63.000455      2.450543   \n",
       "1667835   5.76  0.32  2.48  ...       68.306944      63.967391      2.477604   \n",
       "1667836   4.31  0.19  2.79  ...       68.786806      64.411667      2.490104   \n",
       "1667837   3.76  0.18  2.58  ...       69.182639      65.172083      2.484375   \n",
       "1667838   5.89  0.24  2.70  ...       69.329861      65.602500      2.481250   \n",
       "1667839   4.55  0.34  2.67  ...       69.354167      65.928750      2.475521   \n",
       "\n",
       "         NOx_SubIndex  NH3_SubIndex CO_SubIndex O3_SubIndex Checks  \\\n",
       "1667827     43.417187      2.071094        35.5   31.950000      6   \n",
       "1667828     48.355882      2.656471        73.0   31.950000      7   \n",
       "1667829     49.072917      2.677083        73.0   55.360000      7   \n",
       "1667830     48.788816      2.612763        73.0   81.290000      7   \n",
       "1667831     48.724375      2.555250        73.0   87.830000      7   \n",
       "1667832     47.898810      2.482738        73.0  100.485294      7   \n",
       "1667833     47.793182      2.443068        73.0  100.485294      7   \n",
       "1667834     47.531522      2.397500        73.0  104.882353      7   \n",
       "1667835     47.440625      2.357604        73.0  104.882353      7   \n",
       "1667836     47.408333      2.356979        40.5  104.882353      7   \n",
       "1667837     47.029687      2.335729        24.0  104.882353      7   \n",
       "1667838     47.164062      2.357604        21.0  104.882353      7   \n",
       "1667839     47.054167      2.366146        19.5  104.882353      7   \n",
       "\n",
       "        AQI_calculated AQI_bucket_calculated  \n",
       "1667827           66.0          Satisfactory  \n",
       "1667828           73.0          Satisfactory  \n",
       "1667829           73.0          Satisfactory  \n",
       "1667830           81.0          Satisfactory  \n",
       "1667831           88.0          Satisfactory  \n",
       "1667832          100.0          Satisfactory  \n",
       "1667833          100.0          Satisfactory  \n",
       "1667834          105.0              Moderate  \n",
       "1667835          105.0              Moderate  \n",
       "1667836          105.0              Moderate  \n",
       "1667837          105.0              Moderate  \n",
       "1667838          105.0              Moderate  \n",
       "1667839          105.0              Moderate  \n",
       "\n",
       "[13 rows x 38 columns]"
      ]
     },
     "execution_count": 12,
     "metadata": {},
     "output_type": "execute_result"
    }
   ],
   "source": [
    "## AQI bucketing\n",
    "def get_AQI_bucket(x):\n",
    "    if x <= 50:\n",
    "        return \"Good\"\n",
    "    elif x <= 100:\n",
    "        return \"Satisfactory\"\n",
    "    elif x <= 200:\n",
    "        return \"Moderate\"\n",
    "    elif x <= 300:\n",
    "        return \"Poor\"\n",
    "    elif x <= 400:\n",
    "        return \"Very Poor\"\n",
    "    elif x > 400:\n",
    "        return \"Severe\"\n",
    "    else:\n",
    "        return np.NaN\n",
    "\n",
    "df[\"Checks\"] = (df[\"PM2.5_SubIndex\"] > 0).astype(int) + \\\n",
    "                (df[\"PM10_SubIndex\"] > 0).astype(int) + \\\n",
    "                (df[\"SO2_SubIndex\"] > 0).astype(int) + \\\n",
    "                (df[\"NOx_SubIndex\"] > 0).astype(int) + \\\n",
    "                (df[\"NH3_SubIndex\"] > 0).astype(int) + \\\n",
    "                (df[\"CO_SubIndex\"] > 0).astype(int) + \\\n",
    "                (df[\"O3_SubIndex\"] > 0).astype(int)\n",
    "\n",
    "df[\"AQI_calculated\"] = round(df[[\"PM2.5_SubIndex\", \"PM10_SubIndex\", \"SO2_SubIndex\", \"NOx_SubIndex\",\n",
    "                                 \"NH3_SubIndex\", \"CO_SubIndex\", \"O3_SubIndex\"]].max(axis = 1))\n",
    "df.loc[df[\"PM2.5_SubIndex\"] + df[\"PM10_SubIndex\"] <= 0, \"AQI_calculated\"] = np.NaN\n",
    "df.loc[df.Checks < 3, \"AQI_calculated\"] = np.NaN\n",
    "\n",
    "df[\"AQI_bucket_calculated\"] = df[\"AQI_calculated\"].apply(lambda x: get_AQI_bucket(x))\n",
    "df[~df.AQI_calculated.isna()].head(13)\n"
   ]
  },
  {
   "cell_type": "code",
   "execution_count": 13,
   "metadata": {
    "papermill": {
     "duration": 0.035683,
     "end_time": "2020-08-22T16:19:36.815592",
     "exception": false,
     "start_time": "2020-08-22T16:19:36.779909",
     "status": "completed"
    },
    "tags": []
   },
   "outputs": [
    {
     "data": {
      "text/plain": [
       "Satisfactory    17568\n",
       "Good             5089\n",
       "Moderate         4487\n",
       "Poor              121\n",
       "Name: AQI_bucket_calculated, dtype: int64"
      ]
     },
     "execution_count": 13,
     "metadata": {},
     "output_type": "execute_result"
    }
   ],
   "source": [
    "df[~df.AQI_calculated.isna()].AQI_bucket_calculated.value_counts()"
   ]
  },
  {
   "cell_type": "markdown",
   "metadata": {
    "papermill": {
     "duration": 0.011083,
     "end_time": "2020-08-22T16:19:36.840470",
     "exception": false,
     "start_time": "2020-08-22T16:19:36.829387",
     "status": "completed"
    },
    "tags": []
   },
   "source": [
    "## Day level\n",
    "To get AQI at day level, the AQI values are averaged over the hours of the day.\n"
   ]
  },
  {
   "cell_type": "code",
   "execution_count": 14,
   "metadata": {
    "papermill": {
     "duration": 0.205053,
     "end_time": "2020-08-22T16:19:37.056697",
     "exception": false,
     "start_time": "2020-08-22T16:19:36.851644",
     "status": "completed"
    },
    "tags": []
   },
   "outputs": [],
   "source": [
    "df_station_hour = df\n",
    "df_station_day = pd.read_csv(PATH_STATION_DAY)\n",
    "\n",
    "df_station_day = df_station_day.merge(df.groupby([\"StationId\", \"Date\"])[\"AQI_calculated\"].mean().reset_index(), on = [\"StationId\", \"Date\"])\n",
    "df_station_day.AQI_calculated = round(df_station_day.AQI_calculated)\n"
   ]
  },
  {
   "cell_type": "markdown",
   "metadata": {
    "papermill": {
     "duration": 0.007148,
     "end_time": "2020-08-22T16:19:37.071474",
     "exception": false,
     "start_time": "2020-08-22T16:19:37.064326",
     "status": "completed"
    },
    "tags": []
   },
   "source": [
    "## City level\n",
    "To get AQI at city level, the AQI values are averaged over stations of the city."
   ]
  },
  {
   "cell_type": "code",
   "execution_count": 15,
   "metadata": {
    "papermill": {
     "duration": 2.924383,
     "end_time": "2020-08-22T16:19:40.002831",
     "exception": false,
     "start_time": "2020-08-22T16:19:37.078448",
     "status": "completed"
    },
    "tags": []
   },
   "outputs": [],
   "source": [
    "df_city_hour = pd.read_csv(PATH_CITY_HOUR)\n",
    "df_city_day = pd.read_csv(PATH_CITY_DAY)\n",
    "\n",
    "df_city_hour[\"Date\"] = pd.to_datetime(df_city_hour.Datetime).dt.date.astype(str)\n",
    "\n",
    "df_city_hour = df_city_hour.merge(df.groupby([\"City\", \"Datetime\"])[\"AQI_calculated\"].mean().reset_index(), on = [\"City\", \"Datetime\"])\n",
    "df_city_hour.AQI_calculated = round(df_city_hour.AQI_calculated)\n",
    "\n",
    "df_city_day = df_city_day.merge(df_city_hour.groupby([\"City\", \"Date\"])[\"AQI_calculated\"].mean().reset_index(), on = [\"City\", \"Date\"])\n",
    "df_city_day.AQI_calculated = round(df_city_day.AQI_calculated)\n"
   ]
  },
  {
   "cell_type": "markdown",
   "metadata": {
    "papermill": {
     "duration": 0.006889,
     "end_time": "2020-08-22T16:19:40.017669",
     "exception": false,
     "start_time": "2020-08-22T16:19:40.010780",
     "status": "completed"
    },
    "tags": []
   },
   "source": [
    "## Verification\n",
    "Since this exact formula is used for AQI calculated, lets quickly compare it with the actual AQI values present in the raw data at each of the four levels.\n"
   ]
  },
  {
   "cell_type": "code",
   "execution_count": 16,
   "metadata": {
    "papermill": {
     "duration": 0.056374,
     "end_time": "2020-08-22T16:19:40.081525",
     "exception": false,
     "start_time": "2020-08-22T16:19:40.025151",
     "status": "completed"
    },
    "tags": []
   },
   "outputs": [
    {
     "name": "stdout",
     "output_type": "stream",
     "text": [
      "Station + Hour\n",
      "Rows:  27265\n",
      "Matched AQI:  27265\n",
      "% Match:  100.0\n",
      "\n",
      "\n",
      "Station + Day\n",
      "Rows:  1170\n",
      "Matched AQI:  1170\n",
      "% Match:  100.0\n",
      "\n",
      "\n",
      "City + Hour\n",
      "Rows:  24734\n",
      "Matched AQI:  24734\n",
      "% Match:  100.0\n",
      "\n",
      "\n",
      "City + Day\n",
      "Rows:  1052\n",
      "Matched AQI:  1052\n",
      "% Match:  100.0\n"
     ]
    }
   ],
   "source": [
    "df_check_station_hour = df_station_hour[[\"AQI\", \"AQI_calculated\"]].dropna()\n",
    "df_check_station_day = df_station_day[[\"AQI\", \"AQI_calculated\"]].dropna()\n",
    "df_check_city_hour = df_city_hour[[\"AQI\", \"AQI_calculated\"]].dropna()\n",
    "df_check_city_day = df_city_day[[\"AQI\", \"AQI_calculated\"]].dropna()\n",
    "\n",
    "print(\"Station + Hour\")\n",
    "print(\"Rows: \", df_check_station_hour.shape[0])\n",
    "print(\"Matched AQI: \", (df_check_station_hour.AQI == df_check_station_hour.AQI_calculated).sum())\n",
    "print(\"% Match: \", (df_check_station_hour.AQI == df_check_station_hour.AQI_calculated).sum() * 100 / df_check_station_hour.shape[0])\n",
    "print(\"\\n\")\n",
    "print(\"Station + Day\")\n",
    "print(\"Rows: \", df_check_station_day.shape[0])\n",
    "print(\"Matched AQI: \", (df_check_station_day.AQI == df_check_station_day.AQI_calculated).sum())\n",
    "print(\"% Match: \", (df_check_station_day.AQI == df_check_station_day.AQI_calculated).sum() * 100 / df_check_station_day.shape[0])\n",
    "print(\"\\n\")\n",
    "print(\"City + Hour\")\n",
    "print(\"Rows: \", df_check_city_hour.shape[0])\n",
    "print(\"Matched AQI: \", (df_check_city_hour.AQI == df_check_city_hour.AQI_calculated).sum())\n",
    "print(\"% Match: \", (df_check_city_hour.AQI == df_check_city_hour.AQI_calculated).sum() * 100 / df_check_city_hour.shape[0])\n",
    "print(\"\\n\")\n",
    "print(\"City + Day\")\n",
    "print(\"Rows: \", df_check_city_day.shape[0])\n",
    "print(\"Matched AQI: \", (df_check_city_day.AQI == df_check_city_day.AQI_calculated).sum())\n",
    "print(\"% Match: \", (df_check_city_day.AQI == df_check_city_day.AQI_calculated).sum() * 100 / df_check_city_day.shape[0])\n"
   ]
  },
  {
   "cell_type": "markdown",
   "metadata": {
    "papermill": {
     "duration": 0.007013,
     "end_time": "2020-08-22T16:19:40.096175",
     "exception": false,
     "start_time": "2020-08-22T16:19:40.089162",
     "status": "completed"
    },
    "tags": []
   },
   "source": [
    "Matches perfectly. In case of any discrepancy or bug or issue, feel free to comment here or share on the [dataset page](https://www.kaggle.com/rohanrao/air-quality-data-in-india)."
   ]
  }
 ],
 "metadata": {
  "kernelspec": {
   "display_name": "Python 3",
   "language": "python",
   "name": "python3"
  },
  "language_info": {
   "codemirror_mode": {
    "name": "ipython",
    "version": 3
   },
   "file_extension": ".py",
   "mimetype": "text/x-python",
   "name": "python",
   "nbconvert_exporter": "python",
   "pygments_lexer": "ipython3",
   "version": "3.8.4"
  },
  "papermill": {
   "duration": 17.475624,
   "end_time": "2020-08-22T16:19:40.611234",
   "environment_variables": {},
   "exception": null,
   "input_path": "__notebook__.ipynb",
   "output_path": "__notebook__.ipynb",
   "parameters": {},
   "start_time": "2020-08-22T16:19:23.135610",
   "version": "1.2.1"
  }
 },
 "nbformat": 4,
 "nbformat_minor": 4
}
